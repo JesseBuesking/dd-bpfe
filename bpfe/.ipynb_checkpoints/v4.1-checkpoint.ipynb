{
 "metadata": {
  "name": "",
  "signature": "sha256:7011a4a2921a091560c190eed4a8ad375f89e6ff27f0c5e99cc178c410ce809b"
 },
 "nbformat": 3,
 "nbformat_minor": 0,
 "worksheets": []
}